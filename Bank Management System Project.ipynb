{
 "cells": [
  {
   "cell_type": "code",
   "execution_count": 1,
   "id": "29ef281b-f5a1-40d4-906a-9230844bbf4b",
   "metadata": {},
   "outputs": [
    {
     "name": "stdout",
     "output_type": "stream",
     "text": [
      "\n",
      "Options: account created, deposit, withdraw, balance, exit\n"
     ]
    },
    {
     "name": "stdin",
     "output_type": "stream",
     "text": [
      "What do you want to do?  account created\n",
      "How many accounts do you want to create?  2\n",
      "Enter the account holder's name:  prashant\n",
      "Enter the account number:  34343334\n"
     ]
    },
    {
     "name": "stdout",
     "output_type": "stream",
     "text": [
      "Account created: prashant - 34343334 with balance: 0 \n"
     ]
    },
    {
     "name": "stdin",
     "output_type": "stream",
     "text": [
      "Enter the account holder's name:  sushil\n",
      "Enter the account number:  3434334\n"
     ]
    },
    {
     "name": "stdout",
     "output_type": "stream",
     "text": [
      "Account created: sushil - 3434334 with balance: 0 \n",
      "\n",
      "Options: account created, deposit, withdraw, balance, exit\n"
     ]
    },
    {
     "name": "stdin",
     "output_type": "stream",
     "text": [
      "What do you want to do?  deposit\n",
      "Enter the account name to deposit money:  prashant\n",
      "Enter the deposit amount:  10000000\n"
     ]
    },
    {
     "name": "stdout",
     "output_type": "stream",
     "text": [
      "Deposited 10000000.0 to prashant's account. New balance: 10000000.0\n",
      "\n",
      "Options: account created, deposit, withdraw, balance, exit\n"
     ]
    },
    {
     "name": "stdin",
     "output_type": "stream",
     "text": [
      "What do you want to do?  withdraw\n",
      "Enter the account name to withdraw money:  prashant\n",
      "Enter the withdrawal amount:  34334\n"
     ]
    },
    {
     "name": "stdout",
     "output_type": "stream",
     "text": [
      "Withdrawn 34334.0 from prashant's account. New balance: 9965666.0\n",
      "\n",
      "Options: account created, deposit, withdraw, balance, exit\n"
     ]
    },
    {
     "name": "stdin",
     "output_type": "stream",
     "text": [
      "What do you want to do?  balance\n",
      "Enter the account name to check balance:  prashant\n"
     ]
    },
    {
     "name": "stdout",
     "output_type": "stream",
     "text": [
      "prashant's account balance: 9965666.0\n",
      "\n",
      "Options: account created, deposit, withdraw, balance, exit\n"
     ]
    },
    {
     "name": "stdin",
     "output_type": "stream",
     "text": [
      "What do you want to do?  balance\n",
      "Enter the account name to check balance:  sushil\n"
     ]
    },
    {
     "name": "stdout",
     "output_type": "stream",
     "text": [
      "sushil's account balance: 0\n",
      "\n",
      "Options: account created, deposit, withdraw, balance, exit\n"
     ]
    },
    {
     "name": "stdin",
     "output_type": "stream",
     "text": [
      "What do you want to do?  exit\n"
     ]
    },
    {
     "name": "stdout",
     "output_type": "stream",
     "text": [
      "Exiting the system. Goodbye!\n"
     ]
    }
   ],
   "source": [
    "# Bank Management System\n",
    "account_data = {}\n",
    "run = True\n",
    "\n",
    "while run:\n",
    "    print(\"\\nOptions: account created, deposit, withdraw, balance, exit\")\n",
    "    choice = input(\"What do you want to do? \").lower()\n",
    "    \n",
    "    if choice == \"account created\":\n",
    "        num_account = int(input(\"How many accounts do you want to create? \"))\n",
    "        for i in range(num_account):\n",
    "            name = input(\"Enter the account holder's name: \")\n",
    "            number = input(\"Enter the account number: \")\n",
    "            balance = 0\n",
    "            account_data[name] = {'account_number': number, 'balance': balance}\n",
    "            print(f\"Account created: {name} - {number} with balance: {balance} \")\n",
    "\n",
    "    elif choice == \"deposit\":\n",
    "        name = input(\"Enter the account name to deposit money: \")\n",
    "        if name in account_data:\n",
    "            amount = float(input(\"Enter the deposit amount: \"))\n",
    "            account_data[name]['balance'] += amount\n",
    "            print(f\"Deposited {amount} to {name}'s account. New balance: {account_data[name]['balance']}\")\n",
    "        else:\n",
    "            print(\"Account not found!\")\n",
    "\n",
    "    elif choice == \"withdraw\":\n",
    "        name = input(\"Enter the account name to withdraw money: \")\n",
    "        if name in account_data:\n",
    "            amount = float(input(\"Enter the withdrawal amount: \"))\n",
    "            if amount <= account_data[name]['balance']:\n",
    "                account_data[name]['balance'] -= amount\n",
    "                print(f\"Withdrawn {amount} from {name}'s account. New balance: {account_data[name]['balance']}\")\n",
    "            else:\n",
    "                print(\"Insufficient funds!\")\n",
    "        else:\n",
    "            print(\"Account not found!\")\n",
    "\n",
    "    elif choice == \"balance\":\n",
    "        name = input(\"Enter the account name to check balance: \")\n",
    "        if name in account_data:\n",
    "            print(f\"{name}'s account balance: {account_data[name]['balance']}\")\n",
    "        else:\n",
    "            print(\"Account not found!\")\n",
    "\n",
    "    elif choice == \"exit\":\n",
    "        print(\"Exiting the system. Goodbye!\")\n",
    "        run = False\n",
    "\n",
    "    else:\n",
    "        print(\"Invalid option! Please choose a valid option.\")"
   ]
  },
  {
   "cell_type": "code",
   "execution_count": null,
   "id": "b227ab11-afe3-43e9-bedb-086e91c1bede",
   "metadata": {},
   "outputs": [],
   "source": []
  }
 ],
 "metadata": {
  "kernelspec": {
   "display_name": "Python 3 (ipykernel)",
   "language": "python",
   "name": "python3"
  },
  "language_info": {
   "codemirror_mode": {
    "name": "ipython",
    "version": 3
   },
   "file_extension": ".py",
   "mimetype": "text/x-python",
   "name": "python",
   "nbconvert_exporter": "python",
   "pygments_lexer": "ipython3",
   "version": "3.12.4"
  }
 },
 "nbformat": 4,
 "nbformat_minor": 5
}
