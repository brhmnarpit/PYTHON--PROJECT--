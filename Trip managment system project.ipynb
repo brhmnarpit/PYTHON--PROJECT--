{
 "cells": [
  {
   "cell_type": "code",
   "execution_count": 1,
   "id": "894b1da8-1753-49cc-be63-e97c5667381a",
   "metadata": {},
   "outputs": [
    {
     "name": "stdout",
     "output_type": "stream",
     "text": [
      "\n",
      "Options: packages, ticket booking,search, bill, quit\n"
     ]
    },
    {
     "name": "stdin",
     "output_type": "stream",
     "text": [
      "What do you want to do?  package\n"
     ]
    },
    {
     "name": "stdout",
     "output_type": "stream",
     "text": [
      "Invalid option. Please choose again.\n",
      "\n",
      "Options: packages, ticket booking,search, bill, quit\n"
     ]
    },
    {
     "name": "stdin",
     "output_type": "stream",
     "text": [
      "What do you want to do?  packages\n"
     ]
    },
    {
     "name": "stdout",
     "output_type": "stream",
     "text": [
      "1. Kasol, Himachal Pradesh (Budget: ₹3,000 - ₹7,000 for a 3-4 day trip, Highlights: Backpacker vibe, cafes, budget hostels, camping, nature trails)\n",
      "2. McLeod Ganj, Himachal Pradesh (Budget: ₹4,000 - ₹8,000 for 3-4 days, Highlights: Dalai Lama's temple, Bhagsu Falls, Triund Trek, cafes, budget hotels)\n",
      "3. Bir Billing, Himachal Pradesh (Budget: ₹4,000 - ₹8,000 for a 3-day trip, Highlights: Paragliding (₹2,000-3,000), peaceful monasteries, trekking)\n",
      "4. Tirthan Valley, Himachal Pradesh (Budget: ₹5,000 - ₹10,000 for 3-4 days, Highlights: Nature trails, trout fishing, homestays, scenic spots)\n",
      "5. Rishikesh, Uttarakhand (Budget: ₹3,000 - ₹6,000 for 3-4 days, Highlights: River rafting (₹500-1,500), yoga retreats, Ganga Aarti, budget ashrams/hostels)\n",
      "6. Chopta, Uttarakhand (Budget: ₹4,000 - ₹8,000 for 3-4 days, Highlights: Camping, peaceful surroundings, mountain views, trekking trails)\n"
     ]
    },
    {
     "name": "stdin",
     "output_type": "stream",
     "text": [
      "\n",
      "Enter the number of the package you want to choose:  2\n"
     ]
    },
    {
     "name": "stdout",
     "output_type": "stream",
     "text": [
      "\n",
      "You have selected: McLeod Ganj, Himachal Pradesh (Budget: ₹4,000 - ₹8,000 for 3-4 days)\n",
      "\n",
      "Options: packages, ticket booking,search, bill, quit\n"
     ]
    },
    {
     "name": "stdin",
     "output_type": "stream",
     "text": [
      "What do you want to do?  ticket booking\n",
      "How many tickets are being booked?  1\n",
      "Enter the name of person 1:  prashant\n",
      "Enter the age of person 1:  23\n",
      "Enter the gender of person 1:  male\n"
     ]
    },
    {
     "name": "stdout",
     "output_type": "stream",
     "text": [
      "Tickets booked successfully!\n",
      "\n",
      "Options: packages, ticket booking,search, bill, quit\n"
     ]
    },
    {
     "name": "stdin",
     "output_type": "stream",
     "text": [
      "What do you want to do?  ticket booking\n",
      "How many tickets are being booked?  1\n",
      "Enter the name of person 1:  sushil\n",
      "Enter the age of person 1:  34\n",
      "Enter the gender of person 1:  male\n"
     ]
    },
    {
     "name": "stdout",
     "output_type": "stream",
     "text": [
      "Tickets booked successfully!\n",
      "\n",
      "Options: packages, ticket booking,search, bill, quit\n"
     ]
    },
    {
     "name": "stdin",
     "output_type": "stream",
     "text": [
      "What do you want to do?  search\n",
      "Which name do you want to search?  sushil\n"
     ]
    },
    {
     "name": "stdout",
     "output_type": "stream",
     "text": [
      "Name: sushil, Details: Age: 34, Gender: male\n",
      "\n",
      "Options: packages, ticket booking,search, bill, quit\n"
     ]
    },
    {
     "name": "stdin",
     "output_type": "stream",
     "text": [
      "What do you want to do?  search\n",
      "Which name do you want to search?  prashant\n"
     ]
    },
    {
     "name": "stdout",
     "output_type": "stream",
     "text": [
      "Name: sushil, Details: Age: 34, Gender: male\n",
      "\n",
      "Options: packages, ticket booking,search, bill, quit\n"
     ]
    },
    {
     "name": "stdin",
     "output_type": "stream",
     "text": [
      "What do you want to do?  prashant\n"
     ]
    },
    {
     "name": "stdout",
     "output_type": "stream",
     "text": [
      "Invalid option. Please choose again.\n",
      "\n",
      "Options: packages, ticket booking,search, bill, quit\n"
     ]
    },
    {
     "name": "stdin",
     "output_type": "stream",
     "text": [
      "What do you want to do?  search\n",
      "Which name do you want to search?  prashant\n"
     ]
    },
    {
     "name": "stdout",
     "output_type": "stream",
     "text": [
      "Name: sushil, Details: Age: 34, Gender: male\n",
      "\n",
      "Options: packages, ticket booking,search, bill, quit\n"
     ]
    },
    {
     "name": "stdin",
     "output_type": "stream",
     "text": [
      "What do you want to do?  bill\n"
     ]
    },
    {
     "name": "stdout",
     "output_type": "stream",
     "text": [
      "\n",
      "Trip Details:\n",
      "Package: McLeod Ganj, Himachal Pradesh (Budget: ₹4,000 - ₹8,000 for 3-4 days)\n",
      "Name: prashant, Age: 23, Gender: male\n",
      "Name: sushil, Age: 34, Gender: male\n",
      "Thank you for using our services!\n",
      "\n",
      "Options: packages, ticket booking,search, bill, quit\n"
     ]
    },
    {
     "name": "stdin",
     "output_type": "stream",
     "text": [
      "What do you want to do?  quit\n"
     ]
    },
    {
     "name": "stdout",
     "output_type": "stream",
     "text": [
      "Exiting the system.\n"
     ]
    }
   ],
   "source": [
    "trip = {}\n",
    "chosen_package = None  # Variable to store the chosen package\n",
    "\n",
    "run = True\n",
    "while run:\n",
    "    print(\"\\nOptions: packages, ticket booking,search, bill, quit\")\n",
    "    choice = input(\"What do you want to do? \").lower()\n",
    "\n",
    "    if choice == \"packages\":\n",
    "        packages = {\n",
    "            1: {\n",
    "                \"location\": \"Kasol, Himachal Pradesh\",\n",
    "                \"known_for\": \"Scenic beauty, Parvati River, trekking (e.g., Kheerganga)\",\n",
    "                \"budget\": \"₹3,000 - ₹7,000 for a 3-4 day trip\",\n",
    "                \"highlights\": \"Backpacker vibe, cafes, budget hostels, camping, nature trails\"\n",
    "            },\n",
    "            2: {\n",
    "                \"location\": \"McLeod Ganj, Himachal Pradesh\",\n",
    "                \"known_for\": \"Tibetan culture, monasteries, trekking (e.g., Triund)\",\n",
    "                \"budget\": \"₹4,000 - ₹8,000 for 3-4 days\",\n",
    "                \"highlights\": \"Dalai Lama's temple, Bhagsu Falls, Triund Trek, cafes, budget hotels\"\n",
    "            },\n",
    "            3: {\n",
    "                \"location\": \"Bir Billing, Himachal Pradesh\",\n",
    "                \"known_for\": \"Paragliding capital of India, monasteries, trekking\",\n",
    "                \"budget\": \"₹4,000 - ₹8,000 for a 3-day trip\",\n",
    "                \"highlights\": \"Paragliding (₹2,000-3,000), peaceful monasteries, trekking\"\n",
    "            },\n",
    "            4: {\n",
    "                \"location\": \"Tirthan Valley, Himachal Pradesh\",\n",
    "                \"known_for\": \"Offbeat destination, riverside camping, Great Himalayan National Park\",\n",
    "                \"budget\": \"₹5,000 - ₹10,000 for 3-4 days\",\n",
    "                \"highlights\": \"Nature trails, trout fishing, homestays, scenic spots\"\n",
    "            },\n",
    "            5: {\n",
    "                \"location\": \"Rishikesh, Uttarakhand\",\n",
    "                \"known_for\": \"Adventure sports, yoga, the Ganges river\",\n",
    "                \"budget\": \"₹3,000 - ₹6,000 for 3-4 days\",\n",
    "                \"highlights\": \"River rafting (₹500-1,500), yoga retreats, Ganga Aarti, budget ashrams/hostels\"\n",
    "            },\n",
    "            6: {\n",
    "                \"location\": \"Chopta, Uttarakhand\",\n",
    "                \"budget\": \"₹4,000 - ₹8,000 for 3-4 days\",\n",
    "                \"highlights\": \"Camping, peaceful surroundings, mountain views, trekking trails\"\n",
    "            }\n",
    "        }\n",
    "        for i, j in packages.items():\n",
    "            print(f\"{i}. {j['location']} (Budget: {j['budget']}, Highlights: {j['highlights']})\")\n",
    "        \n",
    "        package_choice = int(input(\"\\nEnter the number of the package you want to choose: \"))\n",
    "        if package_choice in packages:\n",
    "            chosen_package = packages[package_choice]\n",
    "            print(f\"\\nYou have selected: {chosen_package['location']} (Budget: {chosen_package['budget']})\")\n",
    "        else:\n",
    "            print(\"Invalid package number. Please try again.\")\n",
    "\n",
    "    elif choice == \"ticket booking\":\n",
    "        if not chosen_package:\n",
    "            print(\"Please select a package first from 'packages' option.\")\n",
    "        else:\n",
    "            ticket_book = int(input(\"How many tickets are being booked? \"))\n",
    "            for i in range(ticket_book):\n",
    "                name = input(f\"Enter the name of person {i+1}: \")\n",
    "                age = input(f\"Enter the age of person {i+1}: \")\n",
    "                gender = input(f\"Enter the gender of person {i+1}: \")\n",
    "                trip[name] = {'age': age, 'gender': gender}\n",
    "            print(\"Tickets booked successfully!\")\n",
    "\n",
    "    elif choice == \"bill\":\n",
    "        if not trip:\n",
    "            print(\"No tickets booked yet.\")\n",
    "        else:\n",
    "            print(\"\\nTrip Details:\")\n",
    "            print(f\"Package: {chosen_package['location']} (Budget: {chosen_package['budget']})\")\n",
    "            for name, details in trip.items():\n",
    "                print(f\"Name: {name}, Age: {details['age']}, Gender: {details['gender']}\")\n",
    "        print(\"Thank you for using our services!\")\n",
    "\n",
    "    elif choice == \"search\":\n",
    "        name == input(\"Which name do you want to search? \")\n",
    "        if name in trip:\n",
    "            print(f\"Name: {name}, Details: Age: {trip[name]['age']}, Gender: {trip[name]['gender']}\")\n",
    "        else:\n",
    "            print(\"bill not found.\")\n",
    "    elif choice == \"quit\":\n",
    "        print(\"Exiting the system.\")\n",
    "        run = False\n",
    "    else:\n",
    "        print(\"Invalid option. Please choose again.\")"
   ]
  },
  {
   "cell_type": "code",
   "execution_count": null,
   "id": "437700a9-4e1f-41fc-907f-167969b5952a",
   "metadata": {},
   "outputs": [],
   "source": []
  }
 ],
 "metadata": {
  "kernelspec": {
   "display_name": "Python 3 (ipykernel)",
   "language": "python",
   "name": "python3"
  },
  "language_info": {
   "codemirror_mode": {
    "name": "ipython",
    "version": 3
   },
   "file_extension": ".py",
   "mimetype": "text/x-python",
   "name": "python",
   "nbconvert_exporter": "python",
   "pygments_lexer": "ipython3",
   "version": "3.12.4"
  }
 },
 "nbformat": 4,
 "nbformat_minor": 5
}
