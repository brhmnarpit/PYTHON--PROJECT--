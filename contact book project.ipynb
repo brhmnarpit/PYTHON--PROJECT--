{
 "cells": [
  {
   "cell_type": "code",
   "execution_count": 1,
   "id": "ed7ba183-a780-4fd4-85bb-477ef0aa18c9",
   "metadata": {},
   "outputs": [
    {
     "name": "stdout",
     "output_type": "stream",
     "text": [
      "Options: add, search, delete, all contact, quit\n"
     ]
    },
    {
     "name": "stdin",
     "output_type": "stream",
     "text": [
      "Which operation do you want to perform?  add\n",
      "How many contacts do you want to add?  2\n",
      "Enter the name:  prashant\n",
      "Enter the number:  8700896588\n"
     ]
    },
    {
     "name": "stdout",
     "output_type": "stream",
     "text": [
      "Added: prashant - 8700896588\n"
     ]
    },
    {
     "name": "stdin",
     "output_type": "stream",
     "text": [
      "Enter the name:  sushil\n",
      "Enter the number:  809807080\n"
     ]
    },
    {
     "name": "stdout",
     "output_type": "stream",
     "text": [
      "Added: sushil - 809807080\n",
      "Options: add, search, delete, all contact, quit\n"
     ]
    },
    {
     "name": "stdin",
     "output_type": "stream",
     "text": [
      "Which operation do you want to perform?  search\n",
      "Which name do you want to search?  sushil\n"
     ]
    },
    {
     "name": "stdout",
     "output_type": "stream",
     "text": [
      "sushil - 809807080\n",
      "Options: add, search, delete, all contact, quit\n"
     ]
    },
    {
     "name": "stdin",
     "output_type": "stream",
     "text": [
      "Which operation do you want to perform?  all contact\n"
     ]
    },
    {
     "name": "stdout",
     "output_type": "stream",
     "text": [
      "All contacts:\n",
      "prashant - 8700896588\n",
      "sushil - 809807080\n",
      "Options: add, search, delete, all contact, quit\n"
     ]
    },
    {
     "name": "stdin",
     "output_type": "stream",
     "text": [
      "Which operation do you want to perform?  quit\n"
     ]
    },
    {
     "name": "stdout",
     "output_type": "stream",
     "text": [
      "Exiting the program.\n"
     ]
    }
   ],
   "source": [
    "contact_book = {}\n",
    "run = True\n",
    "\n",
    "while run:\n",
    "    print(\"Options: add, search, delete, all contact, quit\")\n",
    "    choice = input(\"Which operation do you want to perform? \")\n",
    "    \n",
    "    if choice == \"add\":\n",
    "        num_contact = int(input(\"How many contacts do you want to add? \"))\n",
    "        for _ in range(num_contact):\n",
    "            name = input(\"Enter the name: \")\n",
    "            number = input(\"Enter the number: \")\n",
    "            contact_book[name] = number\n",
    "            print(f\"Added: {name} - {number}\")\n",
    "    \n",
    "    elif choice == \"search\":\n",
    "        name = input(\"Which name do you want to search? \")\n",
    "        if name in contact_book:\n",
    "            print(f\"{name} - {contact_book[name]}\")\n",
    "        else:\n",
    "            print(\"Contact not found.\")\n",
    "    \n",
    "    elif choice == \"delete\":\n",
    "        name = input(\"Which name do you want to delete? \")\n",
    "        if name in contact_book:\n",
    "            del contact_book[name]\n",
    "            print(f\"Deleted contact: {name}\")\n",
    "        else:\n",
    "            print(\"Contact not found.\")\n",
    "    \n",
    "    elif choice == \"all contact\":\n",
    "        if contact_book:\n",
    "            print(\"All contacts:\")\n",
    "            for name, number in contact_book.items():\n",
    "                print(f\"{name} - {number}\")\n",
    "        else:\n",
    "            print(\"No contacts available.\")\n",
    "    \n",
    "    elif choice == \"quit\":\n",
    "        run = False\n",
    "        print(\"Exiting the program.\")\n",
    "    \n",
    "    else:\n",
    "        print(\"Invalid choice. Please try again.\")\n"
   ]
  },
  {
   "cell_type": "code",
   "execution_count": null,
   "id": "66ca97ee-d165-42f6-ad58-e2e3bc296843",
   "metadata": {},
   "outputs": [],
   "source": []
  }
 ],
 "metadata": {
  "kernelspec": {
   "display_name": "Python 3 (ipykernel)",
   "language": "python",
   "name": "python3"
  },
  "language_info": {
   "codemirror_mode": {
    "name": "ipython",
    "version": 3
   },
   "file_extension": ".py",
   "mimetype": "text/x-python",
   "name": "python",
   "nbconvert_exporter": "python",
   "pygments_lexer": "ipython3",
   "version": "3.12.4"
  }
 },
 "nbformat": 4,
 "nbformat_minor": 5
}
