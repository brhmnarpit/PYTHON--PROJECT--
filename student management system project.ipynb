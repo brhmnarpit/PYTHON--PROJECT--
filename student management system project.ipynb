{
 "cells": [
  {
   "cell_type": "code",
   "execution_count": 3,
   "id": "03daa022-8db6-4a9a-bd33-d8654bd0ef60",
   "metadata": {},
   "outputs": [
    {
     "name": "stdin",
     "output_type": "stream",
     "text": [
      "how many entries do you want to add? 2\n",
      "enter the name prashant\n",
      "enter your age 23\n",
      "enter your number 70800808\n",
      "what is your hobby sports\n"
     ]
    },
    {
     "name": "stdout",
     "output_type": "stream",
     "text": [
      "added\n"
     ]
    },
    {
     "name": "stdin",
     "output_type": "stream",
     "text": [
      "enter the name sushil\n",
      "enter your age 234\n",
      "enter your number 8808098\n",
      "what is your hobby games\n"
     ]
    },
    {
     "name": "stdout",
     "output_type": "stream",
     "text": [
      "added\n"
     ]
    },
    {
     "name": "stdin",
     "output_type": "stream",
     "text": [
      "which name do you want to search? sushil\n"
     ]
    },
    {
     "name": "stdout",
     "output_type": "stream",
     "text": [
      "{'name': 'sushil', 'age': 234, 'contact_num': 8808098, 'hobby': 'games'}\n"
     ]
    },
    {
     "name": "stdin",
     "output_type": "stream",
     "text": [
      "enter the name you want to remove prashant\n"
     ]
    },
    {
     "name": "stdout",
     "output_type": "stream",
     "text": [
      "[{'name': 'sushil', 'age': 234, 'contact_num': 8808098, 'hobby': 'games'}]\n"
     ]
    }
   ],
   "source": [
    "# STUDENT MANAGMENT SYSTEM(ADD, SEARCH ,DELETE,ALL CONTACTS)\n",
    "students=[]\n",
    "def add():\n",
    "    entery=int(input(\"how many entries do you want to add?\"))\n",
    "    for i in range(entery):\n",
    "        name=input(\"enter the name\")\n",
    "        age=int(input(\"enter your age\"))\n",
    "        contact_num=int(input(\"enter your number\"))\n",
    "        hobby=input(\"what is your hobby\")\n",
    "        studnet={\"name\":name,\"age\":age,\"contact_num\":contact_num,\"hobby\":hobby}\n",
    "        students.append(studnet)\n",
    "        print(\"added\")\n",
    "add()\n",
    "def search():\n",
    "    search1=input(\"which name do you want to search?\")\n",
    "    for student in students:\n",
    "        if student[\"name\"]==search1:\n",
    "            print(student)\n",
    "        # else:\n",
    "        #     print(\"not found\")\n",
    "search()\n",
    "def remove():\n",
    "    remove1=input(\"enter the name you want to remove\")\n",
    "    for student in students:\n",
    "        if student[\"name\"]==remove1:\n",
    "            students.remove(student)\n",
    "        else:\n",
    "            print(\"sorry not found\")\n",
    "remove()\n",
    "def display():\n",
    "    print(students)\n",
    "display()"
   ]
  },
  {
   "cell_type": "code",
   "execution_count": null,
   "id": "58c58ef7-8481-4a73-81eb-abe45b16526d",
   "metadata": {},
   "outputs": [],
   "source": []
  }
 ],
 "metadata": {
  "kernelspec": {
   "display_name": "Python 3 (ipykernel)",
   "language": "python",
   "name": "python3"
  },
  "language_info": {
   "codemirror_mode": {
    "name": "ipython",
    "version": 3
   },
   "file_extension": ".py",
   "mimetype": "text/x-python",
   "name": "python",
   "nbconvert_exporter": "python",
   "pygments_lexer": "ipython3",
   "version": "3.12.4"
  }
 },
 "nbformat": 4,
 "nbformat_minor": 5
}
